{
  "nbformat": 4,
  "nbformat_minor": 0,
  "metadata": {
    "colab": {
      "name": "Cross_validation.ipynb",
      "provenance": [],
      "authorship_tag": "ABX9TyOu0DxNKom34YXxAEzI0b/r",
      "include_colab_link": true
    },
    "kernelspec": {
      "name": "python3",
      "display_name": "Python 3"
    },
    "language_info": {
      "name": "python"
    }
  },
  "cells": [
    {
      "cell_type": "markdown",
      "metadata": {
        "id": "view-in-github",
        "colab_type": "text"
      },
      "source": [
        "<a href=\"https://colab.research.google.com/github/Harvey-Sijenyi/15-increament-on-salary/blob/master/Cross_validation.ipynb\" target=\"_parent\"><img src=\"https://colab.research.google.com/assets/colab-badge.svg\" alt=\"Open In Colab\"/></a>"
      ]
    },
    {
      "cell_type": "code",
      "execution_count": 2,
      "metadata": {
        "id": "2gLkdhuBshxr"
      },
      "outputs": [],
      "source": [
        "from sklearn.datasets import make_blobs\n",
        "from sklearn.linear_model import LogisticRegression\n",
        "from sklearn.model_selection import train_test_split"
      ]
    },
    {
      "cell_type": "code",
      "source": [
        "# creating a synthetic dataset\n",
        "X , y = make_blobs(random_state=0)\n",
        "\n",
        "# spliting data and lebels into a training and a test set\n",
        "X_train, X_test, y_train, y_test = train_test_split(X, y, random_state=0)\n",
        "#instantiate a model and fit it to the training set\n",
        "logreg = LogisticRegression().fit(X_train,y_train)\n",
        "#evaluate the model on the test set\n",
        "print(\"Test set score:{:.2f}\".format(logreg.score(X_test, y_test)))"
      ],
      "metadata": {
        "colab": {
          "base_uri": "https://localhost:8080/"
        },
        "id": "RlKO-AIyt2nS",
        "outputId": "1ca1c782-e4a8-47da-caa7-f5f5c210ac82"
      },
      "execution_count": 6,
      "outputs": [
        {
          "output_type": "stream",
          "name": "stdout",
          "text": [
            "Test set score:0.88\n"
          ]
        }
      ]
    },
    {
      "cell_type": "code",
      "source": [
        "from sklearn.model_selection import cross_val_score\n",
        "from sklearn.datasets import load_iris\n",
        "from sklearn.linear_model import LogisticRegression\n",
        "\n",
        "iris = load_iris()\n",
        "logreg =LogisticRegression(max_iter=400)\n",
        "\n",
        "scores= cross_val_score(logreg, iris.data, iris.target, cv=5)\n",
        "for score in scores:\n",
        "    print(score)\n",
        "print(\"Average cross-validation score:{:.2f}\".format(score.mean()))"
      ],
      "metadata": {
        "colab": {
          "base_uri": "https://localhost:8080/"
        },
        "id": "njb5qOhQvVKh",
        "outputId": "a8ccea8c-fb89-48ee-bafe-d6573f7a676f"
      },
      "execution_count": 12,
      "outputs": [
        {
          "output_type": "stream",
          "name": "stdout",
          "text": [
            "0.9666666666666667\n",
            "1.0\n",
            "0.9333333333333333\n",
            "0.9666666666666667\n",
            "1.0\n",
            "Average cross-validation score:1.00\n"
          ]
        }
      ]
    },
    {
      "cell_type": "code",
      "source": [
        "from sklearn.datasets import load_iris\n",
        "iris = load_iris()\n",
        "print(\"Iris labels:\\n{}\".format(iris.target))"
      ],
      "metadata": {
        "colab": {
          "base_uri": "https://localhost:8080/"
        },
        "id": "gD_pBc8Sxy56",
        "outputId": "0c0d94c2-c7f5-47ed-c508-4d963f70ee16"
      },
      "execution_count": 13,
      "outputs": [
        {
          "output_type": "stream",
          "name": "stdout",
          "text": [
            "Iris labels:\n",
            "[0 0 0 0 0 0 0 0 0 0 0 0 0 0 0 0 0 0 0 0 0 0 0 0 0 0 0 0 0 0 0 0 0 0 0 0 0\n",
            " 0 0 0 0 0 0 0 0 0 0 0 0 0 1 1 1 1 1 1 1 1 1 1 1 1 1 1 1 1 1 1 1 1 1 1 1 1\n",
            " 1 1 1 1 1 1 1 1 1 1 1 1 1 1 1 1 1 1 1 1 1 1 1 1 1 1 2 2 2 2 2 2 2 2 2 2 2\n",
            " 2 2 2 2 2 2 2 2 2 2 2 2 2 2 2 2 2 2 2 2 2 2 2 2 2 2 2 2 2 2 2 2 2 2 2 2 2\n",
            " 2 2]\n"
          ]
        }
      ]
    },
    {
      "cell_type": "code",
      "source": [
        "from sklearn.model_selection import StratifiedKFold\n",
        "\n",
        "skf = StratifiedKFold(n_splits=5)\n",
        "\n",
        "scores_strat= cross_val_score(logreg, iris.data, iris.target, cv=skf)\n",
        "for score in scores_strat:\n",
        "    print(score)\n",
        "print(\"Average cross-validation score:{:.2f}\".format(scores_strat.mean()))"
      ],
      "metadata": {
        "colab": {
          "base_uri": "https://localhost:8080/"
        },
        "id": "WF7yK1uCx0sx",
        "outputId": "eadff47e-62b3-4199-b52a-a77bbec95cb4"
      },
      "execution_count": 14,
      "outputs": [
        {
          "output_type": "stream",
          "name": "stdout",
          "text": [
            "0.9666666666666667\n",
            "1.0\n",
            "0.9333333333333333\n",
            "0.9666666666666667\n",
            "1.0\n",
            "Average cross-validation score:0.97\n"
          ]
        }
      ]
    },
    {
      "cell_type": "code",
      "source": [
        "from sklearn.model_selection import KFold\n",
        "kfold= KFold(n_splits=5)\n",
        "scores_standard=cross_val_score(logreg, iris.data, iris.target, cv=kfold)\n",
        "for score in scores_standard:\n",
        "    print(score)\n",
        "print(\"Average cross-validation score:{:.2f}\".format(scores_standard.mean()))"
      ],
      "metadata": {
        "colab": {
          "base_uri": "https://localhost:8080/"
        },
        "id": "Rih42P_jzN-B",
        "outputId": "e269d413-0770-4178-e3c5-2a1090882453"
      },
      "execution_count": 16,
      "outputs": [
        {
          "output_type": "stream",
          "name": "stdout",
          "text": [
            "1.0\n",
            "1.0\n",
            "0.8666666666666667\n",
            "0.9333333333333333\n",
            "0.8333333333333334\n",
            "Average cross-validation score:0.93\n"
          ]
        }
      ]
    },
    {
      "cell_type": "code",
      "source": [
        "from sklearn.model_selection import KFold\n",
        "kfold= KFold(n_splits=3)\n",
        "scores_standard=cross_val_score(logreg, iris.data, iris.target, cv=kfold)\n",
        "for score in scores_standard:\n",
        "    print(score)\n",
        "print(\"Average cross-validation score:{:.2f}\".format(scores_standard.mean()))"
      ],
      "metadata": {
        "colab": {
          "base_uri": "https://localhost:8080/"
        },
        "id": "GjUfltDczhv4",
        "outputId": "53294946-ee01-4e2a-a8ac-c75171409896"
      },
      "execution_count": 17,
      "outputs": [
        {
          "output_type": "stream",
          "name": "stdout",
          "text": [
            "0.0\n",
            "0.0\n",
            "0.0\n",
            "Average cross-validation score:0.00\n"
          ]
        }
      ]
    },
    {
      "cell_type": "code",
      "source": [
        "from sklearn.model_selection import LeaveOneOut\n",
        "loo= LeaveOneOut()\n",
        "scores = cross_val_score(logreg, iris.data, iris.target, cv=loo)\n",
        "\n",
        "print(\"Number of cv iteration: \", len(scores))\n",
        "print(\"Mean accuracy:{:.2f}\".format(scores.mean()))"
      ],
      "metadata": {
        "colab": {
          "base_uri": "https://localhost:8080/"
        },
        "id": "on7DU8Fy0PJw",
        "outputId": "4fdf403f-adc3-4aae-80d1-678486f08c3e"
      },
      "execution_count": 18,
      "outputs": [
        {
          "output_type": "stream",
          "name": "stdout",
          "text": [
            "Number of cv iteration:  150\n",
            "Mean accuracy:0.97\n"
          ]
        }
      ]
    },
    {
      "cell_type": "code",
      "source": [
        "from sklearn.model_selection import ShuffleSplit\n",
        "shuffle_split = ShuffleSplit(test_size=.5, train_size=.5, n_splits=10)\n",
        "scores = cross_val_score(logreg, iris.data, iris.target, cv=shuffle_split)\n",
        "for score in scores:\n",
        "    print(score)\n",
        " "
      ],
      "metadata": {
        "colab": {
          "base_uri": "https://localhost:8080/"
        },
        "id": "E2Fh2NJc07wh",
        "outputId": "a233e1a7-ad16-4497-d2c3-037ea662abee"
      },
      "execution_count": 26,
      "outputs": [
        {
          "output_type": "stream",
          "name": "stdout",
          "text": [
            "0.9866666666666667\n",
            "0.96\n",
            "0.96\n",
            "0.9733333333333334\n",
            "0.9333333333333333\n",
            "0.9466666666666667\n",
            "0.9733333333333334\n",
            "0.96\n",
            "0.9466666666666667\n",
            "0.96\n"
          ]
        }
      ]
    },
    {
      "cell_type": "code",
      "source": [
        "from sklearn.model_selection import GroupKFold\n",
        "from sklearn.datasets import make_blobs\n",
        "\n",
        "#create synthetic dataset\n",
        "X,Y =make_blobs(n_saples=12, random_state=0)\n",
        "\n",
        "#assume the first three samples belong to the same group,\n",
        "#then the next four\n",
        "\n",
        "groups = [0,0,0,1,1,1,1,2,2,3,3,3]\n",
        "scores = cross_val_score(logreg, X, y, groups=groups, cv=GroupKFold(n_splits=3)\n",
        "print(\"Cross-validation scores:\\n{}\".format(scores))"
      ],
      "metadata": {
        "colab": {
          "base_uri": "https://localhost:8080/",
          "height": 130
        },
        "id": "OKhgVYX-2Oyx",
        "outputId": "29d68569-f088-4179-f255-9bec1d5149a1"
      },
      "execution_count": 27,
      "outputs": [
        {
          "output_type": "error",
          "ename": "SyntaxError",
          "evalue": "ignored",
          "traceback": [
            "\u001b[0;36m  File \u001b[0;32m\"<ipython-input-27-e403ba73818c>\"\u001b[0;36m, line \u001b[0;32m12\u001b[0m\n\u001b[0;31m    print(\"Cross-validation scores:\\n{}\".format(scores))\u001b[0m\n\u001b[0m        ^\u001b[0m\n\u001b[0;31mSyntaxError\u001b[0m\u001b[0;31m:\u001b[0m invalid syntax\n"
          ]
        }
      ]
    }
  ]
}