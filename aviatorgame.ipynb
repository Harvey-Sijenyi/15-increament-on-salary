{
  "nbformat": 4,
  "nbformat_minor": 0,
  "metadata": {
    "colab": {
      "provenance": [],
      "authorship_tag": "ABX9TyMYFcWiD6T4Yj3SovrS8wrs",
      "include_colab_link": true
    },
    "kernelspec": {
      "name": "python3",
      "display_name": "Python 3"
    },
    "language_info": {
      "name": "python"
    }
  },
  "cells": [
    {
      "cell_type": "markdown",
      "metadata": {
        "id": "view-in-github",
        "colab_type": "text"
      },
      "source": [
        "<a href=\"https://colab.research.google.com/github/Harvey-Sijenyi/15-increament-on-salary/blob/master/aviatorgame.ipynb\" target=\"_parent\"><img src=\"https://colab.research.google.com/assets/colab-badge.svg\" alt=\"Open In Colab\"/></a>"
      ]
    },
    {
      "cell_type": "code",
      "execution_count": 242,
      "metadata": {
        "id": "Yev0WsxcIuii"
      },
      "outputs": [],
      "source": [
        "import matplotlib.pyplot as plt\n",
        "import numpy as np\n",
        "import hashlib\n",
        "import random\n",
        "import string\n",
        "import hmac"
      ]
    },
    {
      "cell_type": "code",
      "source": [
        "e = 2**52\n",
        "salt = \"0000000000000000000fa3b65e43e4240d71762a5bf397d5304b2596d116859c\""
      ],
      "metadata": {
        "id": "9LR1rG9xI7i-"
      },
      "execution_count": 243,
      "outputs": []
    },
    {
      "cell_type": "code",
      "source": [
        "game_hash = '1C1ECFECC7B6F24A55AE16BE1D403F47C7D0868FA3C716D0D52F10D97BDB8DC82A6C713F493D2085F54CBEF8A77FE1BC0B04DB0AA145C2D6C30206E7B33014A7'\n",
        "\n",
        "def get_result(game_hash):\n",
        "    hm = hmac.new(str.encode(game_hash), b'', hashlib.sha256)\n",
        "    hm.update(salt.encode(\"utf-8\"))\n",
        "    h = hm.hexdigest()\n",
        "    if (int(h, 16) % 33 == 0):\n",
        "        return 1\n",
        "    h = int(h[:13], 16)\n",
        "    e = 2**52\n",
        "    return (((100 * e - h) / (e-h)) // 1) / 100.0\n",
        "\n",
        "def get_prev_game(hash_code):\n",
        "    m = hashlib.sha256()\n",
        "    m.update(hash_code.encode(\"utf-8\"))\n",
        "    return m.hexdigest()"
      ],
      "metadata": {
        "id": "JERwd6rUL2Qm"
      },
      "execution_count": 349,
      "outputs": []
    },
    {
      "cell_type": "code",
      "source": [
        "get_result(game_hash)"
      ],
      "metadata": {
        "colab": {
          "base_uri": "https://localhost:8080/"
        },
        "id": "M2cnYcPlM49l",
        "outputId": "7799a7fe-1202-413e-a048-b84a638368ab"
      },
      "execution_count": 350,
      "outputs": [
        {
          "output_type": "execute_result",
          "data": {
            "text/plain": [
              "1.24"
            ]
          },
          "metadata": {},
          "execution_count": 350
        }
      ]
    }
  ]
}