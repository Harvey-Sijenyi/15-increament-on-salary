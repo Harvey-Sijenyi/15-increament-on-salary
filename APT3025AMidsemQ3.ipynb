{
  "cells": [
    {
      "cell_type": "markdown",
      "metadata": {
        "id": "view-in-github",
        "colab_type": "text"
      },
      "source": [
        "<a href=\"https://colab.research.google.com/github/Harvey-Sijenyi/15-increament-on-salary/blob/master/APT3025AMidsemQ3.ipynb\" target=\"_parent\"><img src=\"https://colab.research.google.com/assets/colab-badge.svg\" alt=\"Open In Colab\"/></a>"
      ]
    },
    {
      "cell_type": "code",
      "source": [
        ""
      ],
      "metadata": {
        "id": "CJYzxGrAi_hX"
      },
      "id": "CJYzxGrAi_hX",
      "execution_count": null,
      "outputs": []
    },
    {
      "cell_type": "markdown",
      "id": "7092dce2",
      "metadata": {
        "id": "7092dce2"
      },
      "source": [
        "# Name and ID: (HARVEY SIJENYI:659931)"
      ]
    },
    {
      "cell_type": "markdown",
      "id": "fbd58639",
      "metadata": {
        "id": "fbd58639"
      },
      "source": [
        "1. Download the weather dataset provided on Blackboard and load it into a Jupyter notebook. (Hint: Load the file as we did the abalone file but provide a file path instead of a URL.)\n",
        "2. Display the first five rows of the dataset.\n",
        "3. Display the dimensions of the dataset, i.e., the number of rows and columns.\n",
        "4. You are going to use the minimum temperature as the input feature and the maximum temperature as the target. A cell has been provided that extracts the needed columns for you. Split the dataset into train and test datasets.\n",
        "6. Train a linear regression model for predicting the maximum temperature using only the minimum temperature as the input feature. \n",
        "7. Evaluate the model using RMSE\n",
        "8. Predict the maximum temperature on a day that has a minimum temperature of 10 degrees."
      ]
    },
    {
      "cell_type": "code",
      "execution_count": null,
      "id": "0e65214f",
      "metadata": {
        "id": "0e65214f"
      },
      "outputs": [],
      "source": [
        ""
      ]
    },
    {
      "cell_type": "code",
      "execution_count": null,
      "id": "2eb80178",
      "metadata": {
        "id": "2eb80178"
      },
      "outputs": [],
      "source": [
        "# 4. Extracting the input feature column and the target column\n",
        "# Exatract the input feature MinTemp\n",
        "X = data['MinTemp'].values.reshape(-1, 1) \n",
        "# Extract the target MaxTemp\n",
        "y = data['MaxTemp'].values.reshape(-1, 1)"
      ]
    },
    {
      "cell_type": "code",
      "execution_count": 2,
      "id": "f9bbbbb7",
      "metadata": {
        "id": "f9bbbbb7"
      },
      "outputs": [],
      "source": [
        " import pandas as pd"
      ]
    },
    {
      "cell_type": "code",
      "source": [
        "pd.set_option('display.max_columns', 5)\n",
        "pd.set_option('display.max_rows', 5)\n",
        "pd.set_option('display.max_colwidth', None)"
      ],
      "metadata": {
        "id": "0rfWG10lkeX-"
      },
      "id": "0rfWG10lkeX-",
      "execution_count": 8,
      "outputs": []
    },
    {
      "cell_type": "code",
      "source": [
        "pd.describe_option('display')"
      ],
      "metadata": {
        "colab": {
          "base_uri": "https://localhost:8080/"
        },
        "id": "3avls7NWmqHW",
        "outputId": "b486d228-df38-4972-dbe1-bbca9075d300"
      },
      "id": "3avls7NWmqHW",
      "execution_count": 9,
      "outputs": [
        {
          "output_type": "stream",
          "name": "stdout",
          "text": [
            "display.chop_threshold : float or None\n",
            "    if set to a float value, all float values smaller then the given threshold\n",
            "    will be displayed as exactly 0 by repr and friends.\n",
            "    [default: None] [currently: None]\n",
            "display.colheader_justify : 'left'/'right'\n",
            "    Controls the justification of column headers. used by DataFrameFormatter.\n",
            "    [default: right] [currently: right]\n",
            "display.column_space No description available.\n",
            "    [default: 12] [currently: 12]\n",
            "display.date_dayfirst : boolean\n",
            "    When True, prints and parses dates with the day first, eg 20/01/2005\n",
            "    [default: False] [currently: False]\n",
            "display.date_yearfirst : boolean\n",
            "    When True, prints and parses dates with the year first, eg 2005/01/20\n",
            "    [default: False] [currently: False]\n",
            "display.encoding : str/unicode\n",
            "    Defaults to the detected encoding of the console.\n",
            "    Specifies the encoding to be used for strings returned by to_string,\n",
            "    these are generally strings meant to be displayed on the console.\n",
            "    [default: UTF-8] [currently: UTF-8]\n",
            "display.expand_frame_repr : boolean\n",
            "    Whether to print out the full DataFrame repr for wide DataFrames across\n",
            "    multiple lines, `max_columns` is still respected, but the output will\n",
            "    wrap-around across multiple \"pages\" if its width exceeds `display.width`.\n",
            "    [default: True] [currently: True]\n",
            "display.float_format : callable\n",
            "    The callable should accept a floating point number and return\n",
            "    a string with the desired format of the number. This is used\n",
            "    in some places like SeriesFormatter.\n",
            "    See formats.format.EngFormatter for an example.\n",
            "    [default: None] [currently: None]\n",
            "display.html.border : int\n",
            "    A ``border=value`` attribute is inserted in the ``<table>`` tag\n",
            "    for the DataFrame HTML repr.\n",
            "    [default: 1] [currently: 1]\n",
            "display.html.table_schema : boolean\n",
            "    Whether to publish a Table Schema representation for frontends\n",
            "    that support it.\n",
            "    (default: False)\n",
            "    [default: False] [currently: False]\n",
            "display.html.use_mathjax : boolean\n",
            "    When True, Jupyter notebook will process table contents using MathJax,\n",
            "    rendering mathematical expressions enclosed by the dollar symbol.\n",
            "    (default: True)\n",
            "    [default: True] [currently: True]\n",
            "display.large_repr : 'truncate'/'info'\n",
            "    For DataFrames exceeding max_rows/max_cols, the repr (and HTML repr) can\n",
            "    show a truncated table (the default from 0.13), or switch to the view from\n",
            "    df.info() (the behaviour in earlier versions of pandas).\n",
            "    [default: truncate] [currently: truncate]\n",
            "display.latex.escape : bool\n",
            "    This specifies if the to_latex method of a Dataframe uses escapes special\n",
            "    characters.\n",
            "    Valid values: False,True\n",
            "    [default: True] [currently: True]\n",
            "display.latex.longtable :bool\n",
            "    This specifies if the to_latex method of a Dataframe uses the longtable\n",
            "    format.\n",
            "    Valid values: False,True\n",
            "    [default: False] [currently: False]\n",
            "display.latex.multicolumn : bool\n",
            "    This specifies if the to_latex method of a Dataframe uses multicolumns\n",
            "    to pretty-print MultiIndex columns.\n",
            "    Valid values: False,True\n",
            "    [default: True] [currently: True]\n",
            "display.latex.multicolumn_format : bool\n",
            "    This specifies if the to_latex method of a Dataframe uses multicolumns\n",
            "    to pretty-print MultiIndex columns.\n",
            "    Valid values: False,True\n",
            "    [default: l] [currently: l]\n",
            "display.latex.multirow : bool\n",
            "    This specifies if the to_latex method of a Dataframe uses multirows\n",
            "    to pretty-print MultiIndex rows.\n",
            "    Valid values: False,True\n",
            "    [default: False] [currently: False]\n",
            "display.latex.repr : boolean\n",
            "    Whether to produce a latex DataFrame representation for jupyter\n",
            "    environments that support it.\n",
            "    (default: False)\n",
            "    [default: False] [currently: False]\n",
            "display.max_categories : int\n",
            "    This sets the maximum number of categories pandas should output when\n",
            "    printing out a `Categorical` or a Series of dtype \"category\".\n",
            "    [default: 8] [currently: 8]\n",
            "display.max_columns : int\n",
            "    If max_cols is exceeded, switch to truncate view. Depending on\n",
            "    `large_repr`, objects are either centrally truncated or printed as\n",
            "    a summary view. 'None' value means unlimited.\n",
            "\n",
            "    In case python/IPython is running in a terminal and `large_repr`\n",
            "    equals 'truncate' this can be set to 0 and pandas will auto-detect\n",
            "    the width of the terminal and print a truncated object which fits\n",
            "    the screen width. The IPython notebook, IPython qtconsole, or IDLE\n",
            "    do not run in a terminal and hence it is not possible to do\n",
            "    correct auto-detection.\n",
            "    [default: 0] [currently: 5]\n",
            "display.max_colwidth : int or None\n",
            "    The maximum width in characters of a column in the repr of\n",
            "    a pandas data structure. When the column overflows, a \"...\"\n",
            "    placeholder is embedded in the output. A 'None' value means unlimited.\n",
            "    [default: 50] [currently: None]\n",
            "display.max_info_columns : int\n",
            "    max_info_columns is used in DataFrame.info method to decide if\n",
            "    per column information will be printed.\n",
            "    [default: 100] [currently: 100]\n",
            "display.max_info_rows : int or None\n",
            "    df.info() will usually show null-counts for each column.\n",
            "    For large frames this can be quite slow. max_info_rows and max_info_cols\n",
            "    limit this null check only to frames with smaller dimensions than\n",
            "    specified.\n",
            "    [default: 1690785] [currently: 1690785]\n",
            "display.max_rows : int\n",
            "    If max_rows is exceeded, switch to truncate view. Depending on\n",
            "    `large_repr`, objects are either centrally truncated or printed as\n",
            "    a summary view. 'None' value means unlimited.\n",
            "\n",
            "    In case python/IPython is running in a terminal and `large_repr`\n",
            "    equals 'truncate' this can be set to 0 and pandas will auto-detect\n",
            "    the height of the terminal and print a truncated object which fits\n",
            "    the screen height. The IPython notebook, IPython qtconsole, or\n",
            "    IDLE do not run in a terminal and hence it is not possible to do\n",
            "    correct auto-detection.\n",
            "    [default: 60] [currently: 5]\n",
            "display.max_seq_items : int or None\n",
            "    When pretty-printing a long sequence, no more then `max_seq_items`\n",
            "    will be printed. If items are omitted, they will be denoted by the\n",
            "    addition of \"...\" to the resulting string.\n",
            "\n",
            "    If set to None, the number of items to be printed is unlimited.\n",
            "    [default: 100] [currently: 100]\n",
            "display.memory_usage : bool, string or None\n",
            "    This specifies if the memory usage of a DataFrame should be displayed when\n",
            "    df.info() is called. Valid values True,False,'deep'\n",
            "    [default: True] [currently: True]\n",
            "display.min_rows : int\n",
            "    The numbers of rows to show in a truncated view (when `max_rows` is\n",
            "    exceeded). Ignored when `max_rows` is set to None or 0. When set to\n",
            "    None, follows the value of `max_rows`.\n",
            "    [default: 10] [currently: 10]\n",
            "display.multi_sparse : boolean\n",
            "    \"sparsify\" MultiIndex display (don't display repeated\n",
            "    elements in outer levels within groups)\n",
            "    [default: True] [currently: True]\n",
            "display.notebook_repr_html : boolean\n",
            "    When True, IPython notebook will use html representation for\n",
            "    pandas objects (if it is available).\n",
            "    [default: True] [currently: True]\n",
            "display.pprint_nest_depth : int\n",
            "    Controls the number of nested levels to process when pretty-printing\n",
            "    [default: 3] [currently: 3]\n",
            "display.precision : int\n",
            "    Floating point output precision in terms of number of places after the\n",
            "    decimal, for regular formatting as well as scientific notation. Similar\n",
            "    to ``precision`` in :meth:`numpy.set_printoptions`.\n",
            "    [default: 6] [currently: 6]\n",
            "display.show_dimensions : boolean or 'truncate'\n",
            "    Whether to print out dimensions at the end of DataFrame repr.\n",
            "    If 'truncate' is specified, only print out the dimensions if the\n",
            "    frame is truncated (e.g. not display all rows and/or columns)\n",
            "    [default: truncate] [currently: truncate]\n",
            "display.unicode.ambiguous_as_wide : boolean\n",
            "    Whether to use the Unicode East Asian Width to calculate the display text\n",
            "    width.\n",
            "    Enabling this may affect to the performance (default: False)\n",
            "    [default: False] [currently: False]\n",
            "display.unicode.east_asian_width : boolean\n",
            "    Whether to use the Unicode East Asian Width to calculate the display text\n",
            "    width.\n",
            "    Enabling this may affect to the performance (default: False)\n",
            "    [default: False] [currently: False]\n",
            "display.width : int\n",
            "    Width of the display in characters. In case python/IPython is running in\n",
            "    a terminal this can be set to None and pandas will correctly auto-detect\n",
            "    the width.\n",
            "    Note that the IPython notebook, IPython qtconsole, or IDLE do not run in a\n",
            "    terminal and hence it is not possible to correctly detect the width.\n",
            "    [default: 80] [currently: 80]\n"
          ]
        }
      ]
    },
    {
      "cell_type": "code",
      "source": [
        "def set_pandas_display_options() -> None:\n",
        "    \"\"\"Set pandas display options.\"\"\"\n",
        "    display = pd.options.display\n",
        "\n",
        "    display.max_columns = 1000\n",
        "    display.max_rows = 1000\n",
        "    display.max_colwidth = 199\n",
        "    display.width = 1000"
      ],
      "metadata": {
        "id": "nt1YoFs9mYiv"
      },
      "id": "nt1YoFs9mYiv",
      "execution_count": 10,
      "outputs": []
    },
    {
      "cell_type": "code",
      "source": [
        "df = pd.DataFrame({\"Letters\": [\"a\", \"b\", \"c\", \"d\",\"e\"], \"Numbers\": [1, 2, 3, 4, 5]})\n",
        "index = df.index\n",
        "number_of_rows = len(index)"
      ],
      "metadata": {
        "id": "6VdA4irzoyrm"
      },
      "id": "6VdA4irzoyrm",
      "execution_count": 18,
      "outputs": []
    },
    {
      "cell_type": "code",
      "source": [
        "import pandas as pd\n"
      ],
      "metadata": {
        "id": "o55XDpzGrDiQ"
      },
      "id": "o55XDpzGrDiQ",
      "execution_count": 31,
      "outputs": []
    },
    {
      "cell_type": "code",
      "source": [
        "dataset = pd.read_csv(\"weather.csv\")"
      ],
      "metadata": {
        "colab": {
          "base_uri": "https://localhost:8080/",
          "height": 311
        },
        "id": "o--kbRFEtsqY",
        "outputId": "6acfbc93-7441-4fc1-bc96-68959f927f62"
      },
      "id": "o--kbRFEtsqY",
      "execution_count": 37,
      "outputs": [
        {
          "output_type": "error",
          "ename": "FileNotFoundError",
          "evalue": "ignored",
          "traceback": [
            "\u001b[0;31m---------------------------------------------------------------------------\u001b[0m",
            "\u001b[0;31mFileNotFoundError\u001b[0m                         Traceback (most recent call last)",
            "\u001b[0;32m<ipython-input-37-586afaa4880a>\u001b[0m in \u001b[0;36m<module>\u001b[0;34m()\u001b[0m\n\u001b[0;32m----> 1\u001b[0;31m \u001b[0mdataset\u001b[0m \u001b[0;34m=\u001b[0m \u001b[0mpd\u001b[0m\u001b[0;34m.\u001b[0m\u001b[0mread_csv\u001b[0m\u001b[0;34m(\u001b[0m\u001b[0;34m\"weather.csv\"\u001b[0m\u001b[0;34m)\u001b[0m\u001b[0;34m\u001b[0m\u001b[0;34m\u001b[0m\u001b[0m\n\u001b[0m",
            "\u001b[0;32m/usr/local/lib/python3.7/dist-packages/pandas/util/_decorators.py\u001b[0m in \u001b[0;36mwrapper\u001b[0;34m(*args, **kwargs)\u001b[0m\n\u001b[1;32m    309\u001b[0m                     \u001b[0mstacklevel\u001b[0m\u001b[0;34m=\u001b[0m\u001b[0mstacklevel\u001b[0m\u001b[0;34m,\u001b[0m\u001b[0;34m\u001b[0m\u001b[0;34m\u001b[0m\u001b[0m\n\u001b[1;32m    310\u001b[0m                 )\n\u001b[0;32m--> 311\u001b[0;31m             \u001b[0;32mreturn\u001b[0m \u001b[0mfunc\u001b[0m\u001b[0;34m(\u001b[0m\u001b[0;34m*\u001b[0m\u001b[0margs\u001b[0m\u001b[0;34m,\u001b[0m \u001b[0;34m**\u001b[0m\u001b[0mkwargs\u001b[0m\u001b[0;34m)\u001b[0m\u001b[0;34m\u001b[0m\u001b[0;34m\u001b[0m\u001b[0m\n\u001b[0m\u001b[1;32m    312\u001b[0m \u001b[0;34m\u001b[0m\u001b[0m\n\u001b[1;32m    313\u001b[0m         \u001b[0;32mreturn\u001b[0m \u001b[0mwrapper\u001b[0m\u001b[0;34m\u001b[0m\u001b[0;34m\u001b[0m\u001b[0m\n",
            "\u001b[0;32m/usr/local/lib/python3.7/dist-packages/pandas/io/parsers/readers.py\u001b[0m in \u001b[0;36mread_csv\u001b[0;34m(filepath_or_buffer, sep, delimiter, header, names, index_col, usecols, squeeze, prefix, mangle_dupe_cols, dtype, engine, converters, true_values, false_values, skipinitialspace, skiprows, skipfooter, nrows, na_values, keep_default_na, na_filter, verbose, skip_blank_lines, parse_dates, infer_datetime_format, keep_date_col, date_parser, dayfirst, cache_dates, iterator, chunksize, compression, thousands, decimal, lineterminator, quotechar, quoting, doublequote, escapechar, comment, encoding, encoding_errors, dialect, error_bad_lines, warn_bad_lines, on_bad_lines, delim_whitespace, low_memory, memory_map, float_precision, storage_options)\u001b[0m\n\u001b[1;32m    584\u001b[0m     \u001b[0mkwds\u001b[0m\u001b[0;34m.\u001b[0m\u001b[0mupdate\u001b[0m\u001b[0;34m(\u001b[0m\u001b[0mkwds_defaults\u001b[0m\u001b[0;34m)\u001b[0m\u001b[0;34m\u001b[0m\u001b[0;34m\u001b[0m\u001b[0m\n\u001b[1;32m    585\u001b[0m \u001b[0;34m\u001b[0m\u001b[0m\n\u001b[0;32m--> 586\u001b[0;31m     \u001b[0;32mreturn\u001b[0m \u001b[0m_read\u001b[0m\u001b[0;34m(\u001b[0m\u001b[0mfilepath_or_buffer\u001b[0m\u001b[0;34m,\u001b[0m \u001b[0mkwds\u001b[0m\u001b[0;34m)\u001b[0m\u001b[0;34m\u001b[0m\u001b[0;34m\u001b[0m\u001b[0m\n\u001b[0m\u001b[1;32m    587\u001b[0m \u001b[0;34m\u001b[0m\u001b[0m\n\u001b[1;32m    588\u001b[0m \u001b[0;34m\u001b[0m\u001b[0m\n",
            "\u001b[0;32m/usr/local/lib/python3.7/dist-packages/pandas/io/parsers/readers.py\u001b[0m in \u001b[0;36m_read\u001b[0;34m(filepath_or_buffer, kwds)\u001b[0m\n\u001b[1;32m    480\u001b[0m \u001b[0;34m\u001b[0m\u001b[0m\n\u001b[1;32m    481\u001b[0m     \u001b[0;31m# Create the parser.\u001b[0m\u001b[0;34m\u001b[0m\u001b[0;34m\u001b[0m\u001b[0;34m\u001b[0m\u001b[0m\n\u001b[0;32m--> 482\u001b[0;31m     \u001b[0mparser\u001b[0m \u001b[0;34m=\u001b[0m \u001b[0mTextFileReader\u001b[0m\u001b[0;34m(\u001b[0m\u001b[0mfilepath_or_buffer\u001b[0m\u001b[0;34m,\u001b[0m \u001b[0;34m**\u001b[0m\u001b[0mkwds\u001b[0m\u001b[0;34m)\u001b[0m\u001b[0;34m\u001b[0m\u001b[0;34m\u001b[0m\u001b[0m\n\u001b[0m\u001b[1;32m    483\u001b[0m \u001b[0;34m\u001b[0m\u001b[0m\n\u001b[1;32m    484\u001b[0m     \u001b[0;32mif\u001b[0m \u001b[0mchunksize\u001b[0m \u001b[0;32mor\u001b[0m \u001b[0miterator\u001b[0m\u001b[0;34m:\u001b[0m\u001b[0;34m\u001b[0m\u001b[0;34m\u001b[0m\u001b[0m\n",
            "\u001b[0;32m/usr/local/lib/python3.7/dist-packages/pandas/io/parsers/readers.py\u001b[0m in \u001b[0;36m__init__\u001b[0;34m(self, f, engine, **kwds)\u001b[0m\n\u001b[1;32m    809\u001b[0m             \u001b[0mself\u001b[0m\u001b[0;34m.\u001b[0m\u001b[0moptions\u001b[0m\u001b[0;34m[\u001b[0m\u001b[0;34m\"has_index_names\"\u001b[0m\u001b[0;34m]\u001b[0m \u001b[0;34m=\u001b[0m \u001b[0mkwds\u001b[0m\u001b[0;34m[\u001b[0m\u001b[0;34m\"has_index_names\"\u001b[0m\u001b[0;34m]\u001b[0m\u001b[0;34m\u001b[0m\u001b[0;34m\u001b[0m\u001b[0m\n\u001b[1;32m    810\u001b[0m \u001b[0;34m\u001b[0m\u001b[0m\n\u001b[0;32m--> 811\u001b[0;31m         \u001b[0mself\u001b[0m\u001b[0;34m.\u001b[0m\u001b[0m_engine\u001b[0m \u001b[0;34m=\u001b[0m \u001b[0mself\u001b[0m\u001b[0;34m.\u001b[0m\u001b[0m_make_engine\u001b[0m\u001b[0;34m(\u001b[0m\u001b[0mself\u001b[0m\u001b[0;34m.\u001b[0m\u001b[0mengine\u001b[0m\u001b[0;34m)\u001b[0m\u001b[0;34m\u001b[0m\u001b[0;34m\u001b[0m\u001b[0m\n\u001b[0m\u001b[1;32m    812\u001b[0m \u001b[0;34m\u001b[0m\u001b[0m\n\u001b[1;32m    813\u001b[0m     \u001b[0;32mdef\u001b[0m \u001b[0mclose\u001b[0m\u001b[0;34m(\u001b[0m\u001b[0mself\u001b[0m\u001b[0;34m)\u001b[0m\u001b[0;34m:\u001b[0m\u001b[0;34m\u001b[0m\u001b[0;34m\u001b[0m\u001b[0m\n",
            "\u001b[0;32m/usr/local/lib/python3.7/dist-packages/pandas/io/parsers/readers.py\u001b[0m in \u001b[0;36m_make_engine\u001b[0;34m(self, engine)\u001b[0m\n\u001b[1;32m   1038\u001b[0m             )\n\u001b[1;32m   1039\u001b[0m         \u001b[0;31m# error: Too many arguments for \"ParserBase\"\u001b[0m\u001b[0;34m\u001b[0m\u001b[0;34m\u001b[0m\u001b[0;34m\u001b[0m\u001b[0m\n\u001b[0;32m-> 1040\u001b[0;31m         \u001b[0;32mreturn\u001b[0m \u001b[0mmapping\u001b[0m\u001b[0;34m[\u001b[0m\u001b[0mengine\u001b[0m\u001b[0;34m]\u001b[0m\u001b[0;34m(\u001b[0m\u001b[0mself\u001b[0m\u001b[0;34m.\u001b[0m\u001b[0mf\u001b[0m\u001b[0;34m,\u001b[0m \u001b[0;34m**\u001b[0m\u001b[0mself\u001b[0m\u001b[0;34m.\u001b[0m\u001b[0moptions\u001b[0m\u001b[0;34m)\u001b[0m  \u001b[0;31m# type: ignore[call-arg]\u001b[0m\u001b[0;34m\u001b[0m\u001b[0;34m\u001b[0m\u001b[0m\n\u001b[0m\u001b[1;32m   1041\u001b[0m \u001b[0;34m\u001b[0m\u001b[0m\n\u001b[1;32m   1042\u001b[0m     \u001b[0;32mdef\u001b[0m \u001b[0m_failover_to_python\u001b[0m\u001b[0;34m(\u001b[0m\u001b[0mself\u001b[0m\u001b[0;34m)\u001b[0m\u001b[0;34m:\u001b[0m\u001b[0;34m\u001b[0m\u001b[0;34m\u001b[0m\u001b[0m\n",
            "\u001b[0;32m/usr/local/lib/python3.7/dist-packages/pandas/io/parsers/c_parser_wrapper.py\u001b[0m in \u001b[0;36m__init__\u001b[0;34m(self, src, **kwds)\u001b[0m\n\u001b[1;32m     49\u001b[0m \u001b[0;34m\u001b[0m\u001b[0m\n\u001b[1;32m     50\u001b[0m         \u001b[0;31m# open handles\u001b[0m\u001b[0;34m\u001b[0m\u001b[0;34m\u001b[0m\u001b[0;34m\u001b[0m\u001b[0m\n\u001b[0;32m---> 51\u001b[0;31m         \u001b[0mself\u001b[0m\u001b[0;34m.\u001b[0m\u001b[0m_open_handles\u001b[0m\u001b[0;34m(\u001b[0m\u001b[0msrc\u001b[0m\u001b[0;34m,\u001b[0m \u001b[0mkwds\u001b[0m\u001b[0;34m)\u001b[0m\u001b[0;34m\u001b[0m\u001b[0;34m\u001b[0m\u001b[0m\n\u001b[0m\u001b[1;32m     52\u001b[0m         \u001b[0;32massert\u001b[0m \u001b[0mself\u001b[0m\u001b[0;34m.\u001b[0m\u001b[0mhandles\u001b[0m \u001b[0;32mis\u001b[0m \u001b[0;32mnot\u001b[0m \u001b[0;32mNone\u001b[0m\u001b[0;34m\u001b[0m\u001b[0;34m\u001b[0m\u001b[0m\n\u001b[1;32m     53\u001b[0m \u001b[0;34m\u001b[0m\u001b[0m\n",
            "\u001b[0;32m/usr/local/lib/python3.7/dist-packages/pandas/io/parsers/base_parser.py\u001b[0m in \u001b[0;36m_open_handles\u001b[0;34m(self, src, kwds)\u001b[0m\n\u001b[1;32m    227\u001b[0m             \u001b[0mmemory_map\u001b[0m\u001b[0;34m=\u001b[0m\u001b[0mkwds\u001b[0m\u001b[0;34m.\u001b[0m\u001b[0mget\u001b[0m\u001b[0;34m(\u001b[0m\u001b[0;34m\"memory_map\"\u001b[0m\u001b[0;34m,\u001b[0m \u001b[0;32mFalse\u001b[0m\u001b[0;34m)\u001b[0m\u001b[0;34m,\u001b[0m\u001b[0;34m\u001b[0m\u001b[0;34m\u001b[0m\u001b[0m\n\u001b[1;32m    228\u001b[0m             \u001b[0mstorage_options\u001b[0m\u001b[0;34m=\u001b[0m\u001b[0mkwds\u001b[0m\u001b[0;34m.\u001b[0m\u001b[0mget\u001b[0m\u001b[0;34m(\u001b[0m\u001b[0;34m\"storage_options\"\u001b[0m\u001b[0;34m,\u001b[0m \u001b[0;32mNone\u001b[0m\u001b[0;34m)\u001b[0m\u001b[0;34m,\u001b[0m\u001b[0;34m\u001b[0m\u001b[0;34m\u001b[0m\u001b[0m\n\u001b[0;32m--> 229\u001b[0;31m             \u001b[0merrors\u001b[0m\u001b[0;34m=\u001b[0m\u001b[0mkwds\u001b[0m\u001b[0;34m.\u001b[0m\u001b[0mget\u001b[0m\u001b[0;34m(\u001b[0m\u001b[0;34m\"encoding_errors\"\u001b[0m\u001b[0;34m,\u001b[0m \u001b[0;34m\"strict\"\u001b[0m\u001b[0;34m)\u001b[0m\u001b[0;34m,\u001b[0m\u001b[0;34m\u001b[0m\u001b[0;34m\u001b[0m\u001b[0m\n\u001b[0m\u001b[1;32m    230\u001b[0m         )\n\u001b[1;32m    231\u001b[0m \u001b[0;34m\u001b[0m\u001b[0m\n",
            "\u001b[0;32m/usr/local/lib/python3.7/dist-packages/pandas/io/common.py\u001b[0m in \u001b[0;36mget_handle\u001b[0;34m(path_or_buf, mode, encoding, compression, memory_map, is_text, errors, storage_options)\u001b[0m\n\u001b[1;32m    705\u001b[0m                 \u001b[0mencoding\u001b[0m\u001b[0;34m=\u001b[0m\u001b[0mioargs\u001b[0m\u001b[0;34m.\u001b[0m\u001b[0mencoding\u001b[0m\u001b[0;34m,\u001b[0m\u001b[0;34m\u001b[0m\u001b[0;34m\u001b[0m\u001b[0m\n\u001b[1;32m    706\u001b[0m                 \u001b[0merrors\u001b[0m\u001b[0;34m=\u001b[0m\u001b[0merrors\u001b[0m\u001b[0;34m,\u001b[0m\u001b[0;34m\u001b[0m\u001b[0;34m\u001b[0m\u001b[0m\n\u001b[0;32m--> 707\u001b[0;31m                 \u001b[0mnewline\u001b[0m\u001b[0;34m=\u001b[0m\u001b[0;34m\"\"\u001b[0m\u001b[0;34m,\u001b[0m\u001b[0;34m\u001b[0m\u001b[0;34m\u001b[0m\u001b[0m\n\u001b[0m\u001b[1;32m    708\u001b[0m             )\n\u001b[1;32m    709\u001b[0m         \u001b[0;32melse\u001b[0m\u001b[0;34m:\u001b[0m\u001b[0;34m\u001b[0m\u001b[0;34m\u001b[0m\u001b[0m\n",
            "\u001b[0;31mFileNotFoundError\u001b[0m: [Errno 2] No such file or directory: 'weather.csv'"
          ]
        }
      ]
    },
    {
      "cell_type": "code",
      "source": [
        "from sklearn.model_selection import train_test_split\n",
        "X_train, X_test, y_train, y_test= train_test_split(weather_datset['data'],weather['target'], random_state=0)"
      ],
      "metadata": {
        "colab": {
          "base_uri": "https://localhost:8080/",
          "height": 183
        },
        "id": "xZfHKjIg0ZP6",
        "outputId": "19998ed3-9e49-4aa4-85b6-ba185d71b050"
      },
      "id": "xZfHKjIg0ZP6",
      "execution_count": 38,
      "outputs": [
        {
          "output_type": "error",
          "ename": "NameError",
          "evalue": "ignored",
          "traceback": [
            "\u001b[0;31m---------------------------------------------------------------------------\u001b[0m",
            "\u001b[0;31mNameError\u001b[0m                                 Traceback (most recent call last)",
            "\u001b[0;32m<ipython-input-38-d0091fb79997>\u001b[0m in \u001b[0;36m<module>\u001b[0;34m()\u001b[0m\n\u001b[1;32m      1\u001b[0m \u001b[0;32mfrom\u001b[0m \u001b[0msklearn\u001b[0m\u001b[0;34m.\u001b[0m\u001b[0mmodel_selection\u001b[0m \u001b[0;32mimport\u001b[0m \u001b[0mtrain_test_split\u001b[0m\u001b[0;34m\u001b[0m\u001b[0;34m\u001b[0m\u001b[0m\n\u001b[0;32m----> 2\u001b[0;31m \u001b[0mX_train\u001b[0m\u001b[0;34m,\u001b[0m \u001b[0mX_test\u001b[0m\u001b[0;34m,\u001b[0m \u001b[0my_train\u001b[0m\u001b[0;34m,\u001b[0m \u001b[0my_test\u001b[0m\u001b[0;34m=\u001b[0m \u001b[0mtrain_test_split\u001b[0m\u001b[0;34m(\u001b[0m\u001b[0mweather_datset\u001b[0m\u001b[0;34m[\u001b[0m\u001b[0;34m'data'\u001b[0m\u001b[0;34m]\u001b[0m\u001b[0;34m,\u001b[0m\u001b[0mweather\u001b[0m\u001b[0;34m[\u001b[0m\u001b[0;34m'target'\u001b[0m\u001b[0;34m]\u001b[0m\u001b[0;34m,\u001b[0m \u001b[0mrandom_state\u001b[0m\u001b[0;34m=\u001b[0m\u001b[0;36m0\u001b[0m\u001b[0;34m)\u001b[0m\u001b[0;34m\u001b[0m\u001b[0;34m\u001b[0m\u001b[0m\n\u001b[0m",
            "\u001b[0;31mNameError\u001b[0m: name 'weather_datset' is not defined"
          ]
        }
      ]
    },
    {
      "cell_type": "code",
      "source": [
        "from sklearn.neighbors import KNeighborsClassifier\n",
        "knn = KNeighborsClassifier(n_neighbors=1)"
      ],
      "metadata": {
        "id": "8ILUaz4K0auJ"
      },
      "id": "8ILUaz4K0auJ",
      "execution_count": 39,
      "outputs": []
    },
    {
      "cell_type": "code",
      "source": [
        "knn.fit(X_train, y_train)"
      ],
      "metadata": {
        "colab": {
          "base_uri": "https://localhost:8080/",
          "height": 165
        },
        "id": "K0HtJ2n01AEJ",
        "outputId": "adadb77f-9bf8-48e5-e4e4-7ebb91ad32b4"
      },
      "id": "K0HtJ2n01AEJ",
      "execution_count": 40,
      "outputs": [
        {
          "output_type": "error",
          "ename": "NameError",
          "evalue": "ignored",
          "traceback": [
            "\u001b[0;31m---------------------------------------------------------------------------\u001b[0m",
            "\u001b[0;31mNameError\u001b[0m                                 Traceback (most recent call last)",
            "\u001b[0;32m<ipython-input-40-144fd69ce732>\u001b[0m in \u001b[0;36m<module>\u001b[0;34m()\u001b[0m\n\u001b[0;32m----> 1\u001b[0;31m \u001b[0mknn\u001b[0m\u001b[0;34m.\u001b[0m\u001b[0mfit\u001b[0m\u001b[0;34m(\u001b[0m\u001b[0mX_train\u001b[0m\u001b[0;34m,\u001b[0m \u001b[0my_train\u001b[0m\u001b[0;34m)\u001b[0m\u001b[0;34m\u001b[0m\u001b[0;34m\u001b[0m\u001b[0m\n\u001b[0m",
            "\u001b[0;31mNameError\u001b[0m: name 'X_train' is not defined"
          ]
        }
      ]
    },
    {
      "cell_type": "code",
      "source": [
        "prediction = knn.prediction(X_new)"
      ],
      "metadata": {
        "colab": {
          "base_uri": "https://localhost:8080/",
          "height": 165
        },
        "id": "Lm__StAc1Mso",
        "outputId": "9c430178-27a7-4be9-d909-54570552586f"
      },
      "id": "Lm__StAc1Mso",
      "execution_count": 41,
      "outputs": [
        {
          "output_type": "error",
          "ename": "AttributeError",
          "evalue": "ignored",
          "traceback": [
            "\u001b[0;31m---------------------------------------------------------------------------\u001b[0m",
            "\u001b[0;31mAttributeError\u001b[0m                            Traceback (most recent call last)",
            "\u001b[0;32m<ipython-input-41-5ff90a7f340c>\u001b[0m in \u001b[0;36m<module>\u001b[0;34m()\u001b[0m\n\u001b[0;32m----> 1\u001b[0;31m \u001b[0mprediction\u001b[0m \u001b[0;34m=\u001b[0m \u001b[0mknn\u001b[0m\u001b[0;34m.\u001b[0m\u001b[0mprediction\u001b[0m\u001b[0;34m(\u001b[0m\u001b[0mX_new\u001b[0m\u001b[0;34m)\u001b[0m\u001b[0;34m\u001b[0m\u001b[0;34m\u001b[0m\u001b[0m\n\u001b[0m",
            "\u001b[0;31mAttributeError\u001b[0m: 'KNeighborsClassifier' object has no attribute 'prediction'"
          ]
        }
      ]
    },
    {
      "cell_type": "code",
      "source": [
        "print(\"prediction:{}\".format(prediction))"
      ],
      "metadata": {
        "colab": {
          "base_uri": "https://localhost:8080/",
          "height": 165
        },
        "id": "CHz29KML13tp",
        "outputId": "5edcd0ca-741d-4818-df2e-28ba904a38f2"
      },
      "id": "CHz29KML13tp",
      "execution_count": 42,
      "outputs": [
        {
          "output_type": "error",
          "ename": "NameError",
          "evalue": "ignored",
          "traceback": [
            "\u001b[0;31m---------------------------------------------------------------------------\u001b[0m",
            "\u001b[0;31mNameError\u001b[0m                                 Traceback (most recent call last)",
            "\u001b[0;32m<ipython-input-42-19345d3f2e00>\u001b[0m in \u001b[0;36m<module>\u001b[0;34m()\u001b[0m\n\u001b[0;32m----> 1\u001b[0;31m \u001b[0mprint\u001b[0m\u001b[0;34m(\u001b[0m\u001b[0;34m\"prediction:{}\"\u001b[0m\u001b[0;34m.\u001b[0m\u001b[0mformat\u001b[0m\u001b[0;34m(\u001b[0m\u001b[0mprediction\u001b[0m\u001b[0;34m)\u001b[0m\u001b[0;34m)\u001b[0m\u001b[0;34m\u001b[0m\u001b[0;34m\u001b[0m\u001b[0m\n\u001b[0m",
            "\u001b[0;31mNameError\u001b[0m: name 'prediction' is not defined"
          ]
        }
      ]
    },
    {
      "cell_type": "code",
      "source": [
        "print(\"prediction target name:{}\".format['weather.csv'][prediction]))"
      ],
      "metadata": {
        "colab": {
          "base_uri": "https://localhost:8080/",
          "height": 130
        },
        "id": "6WhG44As169h",
        "outputId": "f4287264-7902-4e7e-e537-f00105db588a"
      },
      "id": "6WhG44As169h",
      "execution_count": 43,
      "outputs": [
        {
          "output_type": "error",
          "ename": "SyntaxError",
          "evalue": "ignored",
          "traceback": [
            "\u001b[0;36m  File \u001b[0;32m\"<ipython-input-43-4e002ef037ae>\"\u001b[0;36m, line \u001b[0;32m1\u001b[0m\n\u001b[0;31m    print(\"prediction target name:{}\".format['weather.csv'][prediction]))\u001b[0m\n\u001b[0m                                                                        ^\u001b[0m\n\u001b[0;31mSyntaxError\u001b[0m\u001b[0;31m:\u001b[0m invalid syntax\n"
          ]
        }
      ]
    },
    {
      "cell_type": "code",
      "source": [
        "y_pred = knn.prediction(X_test)\n",
        "print(\"test set prediction:\\n{}\".format(y_pred))"
      ],
      "metadata": {
        "colab": {
          "base_uri": "https://localhost:8080/",
          "height": 183
        },
        "id": "n87NLuhp196Z",
        "outputId": "18c811bb-ce83-40a2-9e9c-b43f5c006169"
      },
      "id": "n87NLuhp196Z",
      "execution_count": 45,
      "outputs": [
        {
          "output_type": "error",
          "ename": "AttributeError",
          "evalue": "ignored",
          "traceback": [
            "\u001b[0;31m---------------------------------------------------------------------------\u001b[0m",
            "\u001b[0;31mAttributeError\u001b[0m                            Traceback (most recent call last)",
            "\u001b[0;32m<ipython-input-45-f78d51738263>\u001b[0m in \u001b[0;36m<module>\u001b[0;34m()\u001b[0m\n\u001b[0;32m----> 1\u001b[0;31m \u001b[0my_pred\u001b[0m \u001b[0;34m=\u001b[0m \u001b[0mknn\u001b[0m\u001b[0;34m.\u001b[0m\u001b[0mprediction\u001b[0m\u001b[0;34m(\u001b[0m\u001b[0mX_test\u001b[0m\u001b[0;34m)\u001b[0m\u001b[0;34m\u001b[0m\u001b[0;34m\u001b[0m\u001b[0m\n\u001b[0m\u001b[1;32m      2\u001b[0m \u001b[0mprint\u001b[0m\u001b[0;34m(\u001b[0m\u001b[0;34m\"test set prediction:\\n{}\"\u001b[0m\u001b[0;34m.\u001b[0m\u001b[0mformat\u001b[0m\u001b[0;34m(\u001b[0m\u001b[0my_pred\u001b[0m\u001b[0;34m)\u001b[0m\u001b[0;34m)\u001b[0m\u001b[0;34m\u001b[0m\u001b[0;34m\u001b[0m\u001b[0m\n",
            "\u001b[0;31mAttributeError\u001b[0m: 'KNeighborsClassifier' object has no attribute 'prediction'"
          ]
        }
      ]
    },
    {
      "cell_type": "code",
      "source": [
        "print(\"Test set score:{:.2f}\".format(np.mean(y_pred==y_test)))\n"
      ],
      "metadata": {
        "colab": {
          "base_uri": "https://localhost:8080/",
          "height": 165
        },
        "id": "LIYkoPDI2jXS",
        "outputId": "b975f43c-3c98-4354-daaf-d5106b960b3c"
      },
      "id": "LIYkoPDI2jXS",
      "execution_count": 46,
      "outputs": [
        {
          "output_type": "error",
          "ename": "NameError",
          "evalue": "ignored",
          "traceback": [
            "\u001b[0;31m---------------------------------------------------------------------------\u001b[0m",
            "\u001b[0;31mNameError\u001b[0m                                 Traceback (most recent call last)",
            "\u001b[0;32m<ipython-input-46-26c12a404eb7>\u001b[0m in \u001b[0;36m<module>\u001b[0;34m()\u001b[0m\n\u001b[0;32m----> 1\u001b[0;31m \u001b[0mprint\u001b[0m\u001b[0;34m(\u001b[0m\u001b[0;34m\"Test set score:{:.2f}\"\u001b[0m\u001b[0;34m.\u001b[0m\u001b[0mformat\u001b[0m\u001b[0;34m(\u001b[0m\u001b[0mnp\u001b[0m\u001b[0;34m.\u001b[0m\u001b[0mmean\u001b[0m\u001b[0;34m(\u001b[0m\u001b[0my_pred\u001b[0m\u001b[0;34m==\u001b[0m\u001b[0my_test\u001b[0m\u001b[0;34m)\u001b[0m\u001b[0;34m)\u001b[0m\u001b[0;34m)\u001b[0m\u001b[0;34m\u001b[0m\u001b[0;34m\u001b[0m\u001b[0m\n\u001b[0m",
            "\u001b[0;31mNameError\u001b[0m: name 'np' is not defined"
          ]
        }
      ]
    },
    {
      "cell_type": "code",
      "source": [
        ""
      ],
      "metadata": {
        "id": "6TEL2esS26fx"
      },
      "id": "6TEL2esS26fx",
      "execution_count": null,
      "outputs": []
    }
  ],
  "metadata": {
    "kernelspec": {
      "display_name": "Python 3",
      "language": "python",
      "name": "python3"
    },
    "language_info": {
      "codemirror_mode": {
        "name": "ipython",
        "version": 3
      },
      "file_extension": ".py",
      "mimetype": "text/x-python",
      "name": "python",
      "nbconvert_exporter": "python",
      "pygments_lexer": "ipython3",
      "version": "3.9.4"
    },
    "colab": {
      "name": "APT3025AMidsemQ3.ipynb",
      "provenance": [],
      "include_colab_link": true
    }
  },
  "nbformat": 4,
  "nbformat_minor": 5
}