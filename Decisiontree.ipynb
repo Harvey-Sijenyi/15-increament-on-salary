{
  "nbformat": 4,
  "nbformat_minor": 0,
  "metadata": {
    "colab": {
      "name": "Decisiontree.ipynb",
      "provenance": [],
      "collapsed_sections": [],
      "include_colab_link": true
    },
    "kernelspec": {
      "name": "python3",
      "display_name": "Python 3"
    },
    "language_info": {
      "name": "python"
    }
  },
  "cells": [
    {
      "cell_type": "markdown",
      "metadata": {
        "id": "view-in-github",
        "colab_type": "text"
      },
      "source": [
        "<a href=\"https://colab.research.google.com/github/Harvey-Sijenyi/15-increament-on-salary/blob/master/Decisiontree.ipynb\" target=\"_parent\"><img src=\"https://colab.research.google.com/assets/colab-badge.svg\" alt=\"Open In Colab\"/></a>"
      ]
    },
    {
      "cell_type": "code",
      "source": [
        "from sklearn.tree import DecisionTreeClassifier\n",
        "from sklearn.datasets import load_breast_cancer\n",
        "from sklearn.model_selection import train_test_split"
      ],
      "metadata": {
        "id": "Vb1ut4Br1YxC"
      },
      "execution_count": null,
      "outputs": []
    },
    {
      "cell_type": "code",
      "source": [
        "cdata = load_breast_cancer()\n",
        "X_train, X_test, y_train, y_test = train_test_split(\n",
        "cdata.data, cdata.target, stratify=cdata.target, random_state=42)\n",
        "\n"
      ],
      "metadata": {
        "id": "GrF1eZdW0njV"
      },
      "execution_count": null,
      "outputs": []
    },
    {
      "cell_type": "code",
      "source": [
        "tree = DecisionTreeClassifier(random_state=0)\n",
        "tree.fit(X_train, y_train)\n",
        "print(\"Accuracy on training set:\", tree.score(X_train, y_train))\n",
        "print(\"Accuracy on test set:\", tree.score(X_test, y_test))"
      ],
      "metadata": {
        "colab": {
          "base_uri": "https://localhost:8080/"
        },
        "id": "DHDs85v56aMY",
        "outputId": "f286afca-7f20-419c-aa27-2821bf88ef0b"
      },
      "execution_count": null,
      "outputs": [
        {
          "output_type": "stream",
          "name": "stdout",
          "text": [
            "Accuracy on training set: 1.0\n",
            "Accuracy on test set: 0.9370629370629371\n"
          ]
        }
      ]
    },
    {
      "cell_type": "code",
      "source": [
        "tree = DecisionTreeClassifier(max_depth=4, random_state=0)\n",
        "tree.fit(X_train, y_train)"
      ],
      "metadata": {
        "id": "XJqWJOvx03ai",
        "colab": {
          "base_uri": "https://localhost:8080/"
        },
        "outputId": "0a441cb2-8f2a-4426-d108-2d38d16e2e0f"
      },
      "execution_count": null,
      "outputs": [
        {
          "output_type": "execute_result",
          "data": {
            "text/plain": [
              "DecisionTreeClassifier(max_depth=4, random_state=0)"
            ]
          },
          "metadata": {},
          "execution_count": 10
        }
      ]
    },
    {
      "cell_type": "code",
      "source": [
        "print(\"Accuracy on training set:\", tree.score(X_train, y_train))\n",
        "print(\"Accuracy on test set:\", tree.score(X_test, y_test))"
      ],
      "metadata": {
        "id": "welM-FIF1JUK",
        "colab": {
          "base_uri": "https://localhost:8080/"
        },
        "outputId": "a2ee2f85-46a4-4eb4-becd-6f6d7c512b91"
      },
      "execution_count": null,
      "outputs": [
        {
          "output_type": "stream",
          "name": "stdout",
          "text": [
            "Accuracy on training set: 0.9882629107981221\n",
            "Accuracy on test set: 0.951048951048951\n"
          ]
        }
      ]
    },
    {
      "cell_type": "code",
      "source": [
        "!pip install python-graphviz\n",
        "!pip install pydot"
      ],
      "metadata": {
        "colab": {
          "base_uri": "https://localhost:8080/"
        },
        "id": "4xgem0xt2zDT",
        "outputId": "91f18128-6d55-4a3a-c672-9336a7f880fd"
      },
      "execution_count": null,
      "outputs": [
        {
          "output_type": "stream",
          "name": "stdout",
          "text": [
            "\u001b[31mERROR: Could not find a version that satisfies the requirement python-graphviz (from versions: none)\u001b[0m\n",
            "\u001b[31mERROR: No matching distribution found for python-graphviz\u001b[0m\n",
            "Requirement already satisfied: pydot in /usr/local/lib/python3.7/dist-packages (1.3.0)\n",
            "Requirement already satisfied: pyparsing>=2.1.4 in /usr/local/lib/python3.7/dist-packages (from pydot) (3.0.7)\n"
          ]
        }
      ]
    }
  ]
}